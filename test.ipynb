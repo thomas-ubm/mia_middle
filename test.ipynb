{
 "cells": [
  {
   "cell_type": "code",
   "execution_count": 1,
   "metadata": {},
   "outputs": [],
   "source": [
    "from mistralai import Mistral\n",
    "from fastapi import FastAPI\n",
    "import requests\n",
    "\n",
    "# from function import * \n",
    "\n",
    "\n",
    "# Connexion au client via une api_key = \"aytrA3qWPCyCxnGFqXozRTOh1bSNMoZmQ2\"\n",
    "client = Mistral(api_key=\"trA3qWPCyCxnGFqXozRTOh1bSNMoZmQ2\")\n",
    "# api_keys = os.environ[\"MISTRAL_API\"]    #avec variable d'environnement\n",
    "# client = Mistral(api_key=api_keys)\n",
    "\n",
    "# Agent Mistral : mia_general\n",
    "agent_id=\"ag:56f583a3:20241220:untitled-agent:631f6eb5\"\n",
    "\n",
    "#############################\n",
    "# Test agents Mistral\n",
    "#############################\n",
    "\n",
    "prompt = \"Je désirerais réserver la salle K101 mardi prochain, et je voudrais des informations sur les horaires d'ouverture.\"\n"
   ]
  },
  {
   "cell_type": "code",
   "execution_count": 2,
   "metadata": {},
   "outputs": [],
   "source": [
    "def get_agent_ner(client, agent_id, prompt):\n",
    "    response = client.agents.complete(\n",
    "    agent_id = agent_id,\n",
    "    messages = [\n",
    "    {\n",
    "        \"role\": \"user\",\n",
    "        \"content\": prompt,\n",
    "    },\n",
    "    ],\n",
    "    )\n",
    "    return response.choices[0].message.content.replace(\"\\n\",\"\")\n",
    "    #contenu = response.choices[0].message.content.replace(\"\\n\",\"\")\n",
    "    "
   ]
  },
  {
   "cell_type": "code",
   "execution_count": 3,
   "metadata": {},
   "outputs": [
    {
     "name": "stdout",
     "output_type": "stream",
     "text": [
      "{'RESERVATION_SALLE': ['salle K101'], 'INFO_GENERALE': ['horaires d ouverture'], 'FINANCE': []}\n"
     ]
    }
   ],
   "source": [
    "response = get_agent_ner(client,agent_id,prompt)\n",
    "print (response)"
   ]
  },
  {
   "cell_type": "code",
   "execution_count": 4,
   "metadata": {},
   "outputs": [
    {
     "data": {
      "text/plain": [
       "\"{'RESERVATION_SALLE': ['salle K101'], 'INFO_GENERALE': ['horaires d ouverture'], 'FINANCE': []}\""
      ]
     },
     "execution_count": 4,
     "metadata": {},
     "output_type": "execute_result"
    }
   ],
   "source": [
    "import json\n",
    "response"
   ]
  },
  {
   "cell_type": "code",
   "execution_count": 5,
   "metadata": {},
   "outputs": [],
   "source": [
    "dict_response = eval(response)"
   ]
  },
  {
   "cell_type": "code",
   "execution_count": 8,
   "metadata": {},
   "outputs": [
    {
     "name": "stdout",
     "output_type": "stream",
     "text": [
      "Thème RESERVATION_SALLE trouvé\n",
      "Thème INFO_GENERALE trouvé\n"
     ]
    }
   ],
   "source": [
    " if len(dict_response[\"RESERVATION_SALLE\"]) != 0:\n",
    "        print (\"Thème RESERVATION_SALLE trouvé\")\n",
    "\n",
    "if len(dict_response[\"INFO_GENERALE\"]) != 0:\n",
    "     print (\"Thème INFO_GENERALE trouvé\")\n",
    "        \n",
    "if len(dict_response[\"FINANCE\"]) != 0:\n",
    "    print (\"Thème FINANCE trouvé\")"
   ]
  }
 ],
 "metadata": {
  "kernelspec": {
   "display_name": ".mia_middle",
   "language": "python",
   "name": "python3"
  },
  "language_info": {
   "codemirror_mode": {
    "name": "ipython",
    "version": 3
   },
   "file_extension": ".py",
   "mimetype": "text/x-python",
   "name": "python",
   "nbconvert_exporter": "python",
   "pygments_lexer": "ipython3",
   "version": "3.11.9"
  }
 },
 "nbformat": 4,
 "nbformat_minor": 2
}
